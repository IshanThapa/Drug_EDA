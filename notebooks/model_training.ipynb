{
 "cells": [
  {
   "cell_type": "code",
   "execution_count": 2,
   "metadata": {},
   "outputs": [],
   "source": [
    "import numpy as np\n",
    "import pandas as pd\n",
    "import os\n",
    "import random\n",
    "import seaborn as sns\n",
    "import matplotlib.pyplot as plt"
   ]
  },
  {
   "cell_type": "code",
   "execution_count": 4,
   "metadata": {},
   "outputs": [],
   "source": [
    "data = pd.read_csv(r\"A:\\MY_PROJECTS\\Drug_EDA\\notebooks\\data\\qsar_fish_toxicity.csv\")"
   ]
  },
  {
   "cell_type": "code",
   "execution_count": 5,
   "metadata": {},
   "outputs": [
    {
     "data": {
      "text/html": [
       "<div>\n",
       "<style scoped>\n",
       "    .dataframe tbody tr th:only-of-type {\n",
       "        vertical-align: middle;\n",
       "    }\n",
       "\n",
       "    .dataframe tbody tr th {\n",
       "        vertical-align: top;\n",
       "    }\n",
       "\n",
       "    .dataframe thead th {\n",
       "        text-align: right;\n",
       "    }\n",
       "</style>\n",
       "<table border=\"1\" class=\"dataframe\">\n",
       "  <thead>\n",
       "    <tr style=\"text-align: right;\">\n",
       "      <th></th>\n",
       "      <th>0</th>\n",
       "      <th>1</th>\n",
       "      <th>2</th>\n",
       "      <th>3</th>\n",
       "      <th>4</th>\n",
       "      <th>5</th>\n",
       "      <th>6</th>\n",
       "    </tr>\n",
       "  </thead>\n",
       "  <tbody>\n",
       "    <tr>\n",
       "      <th>0</th>\n",
       "      <td>3.260</td>\n",
       "      <td>0.829</td>\n",
       "      <td>1.676</td>\n",
       "      <td>0</td>\n",
       "      <td>1</td>\n",
       "      <td>1.453</td>\n",
       "      <td>3.770</td>\n",
       "    </tr>\n",
       "    <tr>\n",
       "      <th>1</th>\n",
       "      <td>2.189</td>\n",
       "      <td>0.580</td>\n",
       "      <td>0.863</td>\n",
       "      <td>0</td>\n",
       "      <td>0</td>\n",
       "      <td>1.348</td>\n",
       "      <td>3.115</td>\n",
       "    </tr>\n",
       "    <tr>\n",
       "      <th>2</th>\n",
       "      <td>2.125</td>\n",
       "      <td>0.638</td>\n",
       "      <td>0.831</td>\n",
       "      <td>0</td>\n",
       "      <td>0</td>\n",
       "      <td>1.348</td>\n",
       "      <td>3.531</td>\n",
       "    </tr>\n",
       "    <tr>\n",
       "      <th>3</th>\n",
       "      <td>3.027</td>\n",
       "      <td>0.331</td>\n",
       "      <td>1.472</td>\n",
       "      <td>1</td>\n",
       "      <td>0</td>\n",
       "      <td>1.807</td>\n",
       "      <td>3.510</td>\n",
       "    </tr>\n",
       "    <tr>\n",
       "      <th>4</th>\n",
       "      <td>2.094</td>\n",
       "      <td>0.827</td>\n",
       "      <td>0.860</td>\n",
       "      <td>0</td>\n",
       "      <td>0</td>\n",
       "      <td>1.886</td>\n",
       "      <td>5.390</td>\n",
       "    </tr>\n",
       "  </tbody>\n",
       "</table>\n",
       "</div>"
      ],
      "text/plain": [
       "       0      1      2  3  4      5      6\n",
       "0  3.260  0.829  1.676  0  1  1.453  3.770\n",
       "1  2.189  0.580  0.863  0  0  1.348  3.115\n",
       "2  2.125  0.638  0.831  0  0  1.348  3.531\n",
       "3  3.027  0.331  1.472  1  0  1.807  3.510\n",
       "4  2.094  0.827  0.860  0  0  1.886  5.390"
      ]
     },
     "execution_count": 5,
     "metadata": {},
     "output_type": "execute_result"
    }
   ],
   "source": [
    "df = pd.read_csv('A:/MY_PROJECTS/Drug_EDA/notebooks/data/qsar_fish_toxicity.csv',header=None,delimiter=';')\n",
    "df.head(5)"
   ]
  },
  {
   "cell_type": "code",
   "execution_count": 6,
   "metadata": {},
   "outputs": [
    {
     "data": {
      "text/html": [
       "<div>\n",
       "<style scoped>\n",
       "    .dataframe tbody tr th:only-of-type {\n",
       "        vertical-align: middle;\n",
       "    }\n",
       "\n",
       "    .dataframe tbody tr th {\n",
       "        vertical-align: top;\n",
       "    }\n",
       "\n",
       "    .dataframe thead th {\n",
       "        text-align: right;\n",
       "    }\n",
       "</style>\n",
       "<table border=\"1\" class=\"dataframe\">\n",
       "  <thead>\n",
       "    <tr style=\"text-align: right;\">\n",
       "      <th></th>\n",
       "      <th>CIC0</th>\n",
       "      <th>SM1_Dz</th>\n",
       "      <th>GATS1i</th>\n",
       "      <th>NdsCH</th>\n",
       "      <th>NdssC</th>\n",
       "      <th>MLOGP</th>\n",
       "      <th>quan resp, LC50]</th>\n",
       "    </tr>\n",
       "  </thead>\n",
       "  <tbody>\n",
       "    <tr>\n",
       "      <th>0</th>\n",
       "      <td>3.260</td>\n",
       "      <td>0.829</td>\n",
       "      <td>1.676</td>\n",
       "      <td>0</td>\n",
       "      <td>1</td>\n",
       "      <td>1.453</td>\n",
       "      <td>3.770</td>\n",
       "    </tr>\n",
       "    <tr>\n",
       "      <th>1</th>\n",
       "      <td>2.189</td>\n",
       "      <td>0.580</td>\n",
       "      <td>0.863</td>\n",
       "      <td>0</td>\n",
       "      <td>0</td>\n",
       "      <td>1.348</td>\n",
       "      <td>3.115</td>\n",
       "    </tr>\n",
       "    <tr>\n",
       "      <th>2</th>\n",
       "      <td>2.125</td>\n",
       "      <td>0.638</td>\n",
       "      <td>0.831</td>\n",
       "      <td>0</td>\n",
       "      <td>0</td>\n",
       "      <td>1.348</td>\n",
       "      <td>3.531</td>\n",
       "    </tr>\n",
       "    <tr>\n",
       "      <th>3</th>\n",
       "      <td>3.027</td>\n",
       "      <td>0.331</td>\n",
       "      <td>1.472</td>\n",
       "      <td>1</td>\n",
       "      <td>0</td>\n",
       "      <td>1.807</td>\n",
       "      <td>3.510</td>\n",
       "    </tr>\n",
       "    <tr>\n",
       "      <th>4</th>\n",
       "      <td>2.094</td>\n",
       "      <td>0.827</td>\n",
       "      <td>0.860</td>\n",
       "      <td>0</td>\n",
       "      <td>0</td>\n",
       "      <td>1.886</td>\n",
       "      <td>5.390</td>\n",
       "    </tr>\n",
       "  </tbody>\n",
       "</table>\n",
       "</div>"
      ],
      "text/plain": [
       "    CIC0  SM1_Dz  GATS1i  NdsCH  NdssC  MLOGP  quan resp, LC50]\n",
       "0  3.260   0.829   1.676      0      1  1.453             3.770\n",
       "1  2.189   0.580   0.863      0      0  1.348             3.115\n",
       "2  2.125   0.638   0.831      0      0  1.348             3.531\n",
       "3  3.027   0.331   1.472      1      0  1.807             3.510\n",
       "4  2.094   0.827   0.860      0      0  1.886             5.390"
      ]
     },
     "execution_count": 6,
     "metadata": {},
     "output_type": "execute_result"
    }
   ],
   "source": [
    "df.rename({0: 'CIC0', 1: 'SM1_Dz',2:'GATS1i',3:'NdsCH',4:'NdssC',5:'MLOGP',6:'quan resp, LC50]'}, axis=1, inplace=True)\n",
    "df.head()"
   ]
  },
  {
   "cell_type": "code",
   "execution_count": 7,
   "metadata": {},
   "outputs": [
    {
     "name": "stdout",
     "output_type": "stream",
     "text": [
      "<class 'pandas.core.frame.DataFrame'>\n",
      "RangeIndex: 908 entries, 0 to 907\n",
      "Data columns (total 7 columns):\n",
      " #   Column            Non-Null Count  Dtype  \n",
      "---  ------            --------------  -----  \n",
      " 0   CIC0              908 non-null    float64\n",
      " 1   SM1_Dz            908 non-null    float64\n",
      " 2   GATS1i            908 non-null    float64\n",
      " 3   NdsCH             908 non-null    int64  \n",
      " 4   NdssC             908 non-null    int64  \n",
      " 5   MLOGP             908 non-null    float64\n",
      " 6   quan resp, LC50]  908 non-null    float64\n",
      "dtypes: float64(5), int64(2)\n",
      "memory usage: 49.8 KB\n"
     ]
    }
   ],
   "source": [
    "df.info()"
   ]
  },
  {
   "cell_type": "code",
   "execution_count": 8,
   "metadata": {},
   "outputs": [],
   "source": [
    "# Assuming df is your DataFrame\n",
    "X = df.iloc[:, :6]  # Features (all columns except the last one)\n",
    "y = df.iloc[:, 6]    # Target variable (the last column)\n",
    "\n",
    "# Alternatively, you can use column names for better readability\n",
    "# X = df[['CIC0', 'SM1_Dz', 'GATS1i', 'NdsCH', 'NdssC', 'MLOGP']]\n",
    "# y = df['quan resp, LC50 [-LOG(mol/L)]']\n"
   ]
  },
  {
   "cell_type": "code",
   "execution_count": 9,
   "metadata": {},
   "outputs": [],
   "source": [
    "categorical_cols=X.select_dtypes(include='object').columns"
   ]
  },
  {
   "cell_type": "code",
   "execution_count": 10,
   "metadata": {},
   "outputs": [],
   "source": [
    "numerical_cols=X.select_dtypes(exclude='object').columns"
   ]
  },
  {
   "cell_type": "code",
   "execution_count": 11,
   "metadata": {},
   "outputs": [
    {
     "data": {
      "text/plain": [
       "Index(['CIC0', 'SM1_Dz', 'GATS1i', 'NdsCH', 'NdssC', 'MLOGP'], dtype='object')"
      ]
     },
     "execution_count": 11,
     "metadata": {},
     "output_type": "execute_result"
    }
   ],
   "source": [
    "numerical_cols"
   ]
  },
  {
   "cell_type": "code",
   "execution_count": 12,
   "metadata": {},
   "outputs": [
    {
     "data": {
      "text/html": [
       "<div>\n",
       "<style scoped>\n",
       "    .dataframe tbody tr th:only-of-type {\n",
       "        vertical-align: middle;\n",
       "    }\n",
       "\n",
       "    .dataframe tbody tr th {\n",
       "        vertical-align: top;\n",
       "    }\n",
       "\n",
       "    .dataframe thead th {\n",
       "        text-align: right;\n",
       "    }\n",
       "</style>\n",
       "<table border=\"1\" class=\"dataframe\">\n",
       "  <thead>\n",
       "    <tr style=\"text-align: right;\">\n",
       "      <th></th>\n",
       "    </tr>\n",
       "  </thead>\n",
       "  <tbody>\n",
       "    <tr>\n",
       "      <th>0</th>\n",
       "    </tr>\n",
       "    <tr>\n",
       "      <th>1</th>\n",
       "    </tr>\n",
       "    <tr>\n",
       "      <th>2</th>\n",
       "    </tr>\n",
       "    <tr>\n",
       "      <th>3</th>\n",
       "    </tr>\n",
       "    <tr>\n",
       "      <th>4</th>\n",
       "    </tr>\n",
       "    <tr>\n",
       "      <th>...</th>\n",
       "    </tr>\n",
       "    <tr>\n",
       "      <th>903</th>\n",
       "    </tr>\n",
       "    <tr>\n",
       "      <th>904</th>\n",
       "    </tr>\n",
       "    <tr>\n",
       "      <th>905</th>\n",
       "    </tr>\n",
       "    <tr>\n",
       "      <th>906</th>\n",
       "    </tr>\n",
       "    <tr>\n",
       "      <th>907</th>\n",
       "    </tr>\n",
       "  </tbody>\n",
       "</table>\n",
       "<p>908 rows × 0 columns</p>\n",
       "</div>"
      ],
      "text/plain": [
       "Empty DataFrame\n",
       "Columns: []\n",
       "Index: [0, 1, 2, 3, 4, 5, 6, 7, 8, 9, 10, 11, 12, 13, 14, 15, 16, 17, 18, 19, 20, 21, 22, 23, 24, 25, 26, 27, 28, 29, 30, 31, 32, 33, 34, 35, 36, 37, 38, 39, 40, 41, 42, 43, 44, 45, 46, 47, 48, 49, 50, 51, 52, 53, 54, 55, 56, 57, 58, 59, 60, 61, 62, 63, 64, 65, 66, 67, 68, 69, 70, 71, 72, 73, 74, 75, 76, 77, 78, 79, 80, 81, 82, 83, 84, 85, 86, 87, 88, 89, 90, 91, 92, 93, 94, 95, 96, 97, 98, 99, ...]\n",
       "\n",
       "[908 rows x 0 columns]"
      ]
     },
     "execution_count": 12,
     "metadata": {},
     "output_type": "execute_result"
    }
   ],
   "source": [
    "X.select_dtypes(include='object')"
   ]
  },
  {
   "cell_type": "code",
   "execution_count": 13,
   "metadata": {},
   "outputs": [],
   "source": [
    "from sklearn.impute import SimpleImputer ## HAndling Missing Values\n",
    "from sklearn.preprocessing import StandardScaler # HAndling Feature Scaling\n",
    "from sklearn.preprocessing import OrdinalEncoder # Ordinal Encoding\n",
    "## pipelines\n",
    "from sklearn.pipeline import Pipeline\n",
    "from sklearn.compose import ColumnTransformer"
   ]
  },
  {
   "cell_type": "code",
   "execution_count": 14,
   "metadata": {},
   "outputs": [],
   "source": [
    "# # Define the custom ranking for each ordinal variable\n",
    "# cut_categories = ['Fair', 'Good', 'Very Good','Premium','Ideal']\n",
    "# color_categories = ['D', 'E', 'F', 'G', 'H', 'I', 'J']\n",
    "# clarity_categories = ['I1','SI2','SI1','VS2','VS1','VVS2','VVS1','IF']"
   ]
  },
  {
   "cell_type": "code",
   "execution_count": 15,
   "metadata": {},
   "outputs": [],
   "source": [
    "num_pipeline=Pipeline(\n",
    "    \n",
    "    \n",
    "    steps=[\n",
    "        \n",
    "        ('imputer',SimpleImputer()),\n",
    "        ('scaler', StandardScaler())\n",
    "    ]\n",
    "    \n",
    "    \n",
    ")\n",
    "    "
   ]
  },
  {
   "cell_type": "code",
   "execution_count": 16,
   "metadata": {},
   "outputs": [],
   "source": [
    "# cat_pipeline=Pipeline(\n",
    "    \n",
    "#     steps=[\n",
    "#         ('imputer',SimpleImputer(strategy='most_frequent')),\n",
    "#         ('ordinalencoder',OrdinalEncoder(categories=[cut_categories,color_categories,clarity_categories]))\n",
    "#     ]\n",
    "    \n",
    "# )"
   ]
  },
  {
   "cell_type": "code",
   "execution_count": 17,
   "metadata": {},
   "outputs": [],
   "source": [
    "preprocessor=ColumnTransformer(\n",
    "    [\n",
    "        \n",
    "        ('num_pipeline',num_pipeline,numerical_cols),\n",
    "        #('cat_pipeline',cat_pipeline,categorical_cols)\n",
    "    ]\n",
    ")"
   ]
  },
  {
   "cell_type": "code",
   "execution_count": 18,
   "metadata": {},
   "outputs": [],
   "source": [
    "\n",
    "## Train test split\n",
    "\n",
    "from sklearn.model_selection import train_test_split\n",
    "\n",
    "X_train,X_test,y_train,y_test=train_test_split(X,y,test_size=0.30,random_state=30)\n"
   ]
  },
  {
   "cell_type": "code",
   "execution_count": 19,
   "metadata": {},
   "outputs": [
    {
     "data": {
      "text/plain": [
       "array([[-1.24138654, -1.19447276, -0.23087837,  1.21317731, -0.58106166,\n",
       "        -1.08234118],\n",
       "       [-0.17513566,  0.45391957, -0.66091018, -0.38178665, -0.58106166,\n",
       "         1.00717751],\n",
       "       [ 1.2839445 , -1.19447276,  1.72589357, -0.38178665, -0.58106166,\n",
       "         0.3340114 ],\n",
       "       ...,\n",
       "       [ 0.72145474, -1.51183565, -1.19272466, -0.38178665, -0.58106166,\n",
       "         1.22486459],\n",
       "       [ 0.11589733,  0.02997959, -1.3352204 , -0.38178665, -0.58106166,\n",
       "         1.4515642 ],\n",
       "       [ 1.7824853 , -0.55264184,  0.09991532, -0.38178665, -0.58106166,\n",
       "         0.99608517]])"
      ]
     },
     "execution_count": 19,
     "metadata": {},
     "output_type": "execute_result"
    }
   ],
   "source": [
    "preprocessor.fit_transform(X_train)"
   ]
  },
  {
   "cell_type": "code",
   "execution_count": 20,
   "metadata": {},
   "outputs": [
    {
     "data": {
      "text/plain": [
       "array([[ 0.36908297, -0.33711928, -0.43953286, -0.38178665,  0.55424343,\n",
       "         0.07819441],\n",
       "       [ 0.80106466,  0.17208237,  0.71315595, -0.38178665,  2.82485362,\n",
       "        -0.37451153],\n",
       "       [ 0.64576007, -1.51183565, -0.49551333, -0.38178665, -0.58106166,\n",
       "         0.79711641],\n",
       "       ...,\n",
       "       [-1.15916646,  0.45391957,  1.15845515, -0.38178665, -0.58106166,\n",
       "         0.0809675 ],\n",
       "       [-0.45311783,  0.12945154,  1.73352727, -0.38178665,  1.68954853,\n",
       "        -1.42273723],\n",
       "       [-0.27562687, -0.55264184,  1.77424034, -0.38178665, -0.58106166,\n",
       "        -1.51840862]])"
      ]
     },
     "execution_count": 20,
     "metadata": {},
     "output_type": "execute_result"
    }
   ],
   "source": [
    "preprocessor.transform(X_test)"
   ]
  },
  {
   "cell_type": "code",
   "execution_count": 21,
   "metadata": {},
   "outputs": [
    {
     "data": {
      "text/plain": [
       "array(['num_pipeline__CIC0', 'num_pipeline__SM1_Dz',\n",
       "       'num_pipeline__GATS1i', 'num_pipeline__NdsCH',\n",
       "       'num_pipeline__NdssC', 'num_pipeline__MLOGP'], dtype=object)"
      ]
     },
     "execution_count": 21,
     "metadata": {},
     "output_type": "execute_result"
    }
   ],
   "source": [
    "preprocessor.get_feature_names_out()"
   ]
  },
  {
   "cell_type": "code",
   "execution_count": 22,
   "metadata": {},
   "outputs": [],
   "source": [
    "X_train=pd.DataFrame(preprocessor.fit_transform(X_train),columns=preprocessor.get_feature_names_out())\n",
    "X_test=pd.DataFrame(preprocessor.transform(X_test),columns=preprocessor.get_feature_names_out())"
   ]
  },
  {
   "cell_type": "code",
   "execution_count": 23,
   "metadata": {},
   "outputs": [
    {
     "data": {
      "text/html": [
       "<div>\n",
       "<style scoped>\n",
       "    .dataframe tbody tr th:only-of-type {\n",
       "        vertical-align: middle;\n",
       "    }\n",
       "\n",
       "    .dataframe tbody tr th {\n",
       "        vertical-align: top;\n",
       "    }\n",
       "\n",
       "    .dataframe thead th {\n",
       "        text-align: right;\n",
       "    }\n",
       "</style>\n",
       "<table border=\"1\" class=\"dataframe\">\n",
       "  <thead>\n",
       "    <tr style=\"text-align: right;\">\n",
       "      <th></th>\n",
       "      <th>num_pipeline__CIC0</th>\n",
       "      <th>num_pipeline__SM1_Dz</th>\n",
       "      <th>num_pipeline__GATS1i</th>\n",
       "      <th>num_pipeline__NdsCH</th>\n",
       "      <th>num_pipeline__NdssC</th>\n",
       "      <th>num_pipeline__MLOGP</th>\n",
       "    </tr>\n",
       "  </thead>\n",
       "  <tbody>\n",
       "    <tr>\n",
       "      <th>0</th>\n",
       "      <td>-1.241387</td>\n",
       "      <td>-1.194473</td>\n",
       "      <td>-0.230878</td>\n",
       "      <td>1.213177</td>\n",
       "      <td>-0.581062</td>\n",
       "      <td>-1.082341</td>\n",
       "    </tr>\n",
       "    <tr>\n",
       "      <th>1</th>\n",
       "      <td>-0.175136</td>\n",
       "      <td>0.453920</td>\n",
       "      <td>-0.660910</td>\n",
       "      <td>-0.381787</td>\n",
       "      <td>-0.581062</td>\n",
       "      <td>1.007178</td>\n",
       "    </tr>\n",
       "    <tr>\n",
       "      <th>2</th>\n",
       "      <td>1.283944</td>\n",
       "      <td>-1.194473</td>\n",
       "      <td>1.725894</td>\n",
       "      <td>-0.381787</td>\n",
       "      <td>-0.581062</td>\n",
       "      <td>0.334011</td>\n",
       "    </tr>\n",
       "    <tr>\n",
       "      <th>3</th>\n",
       "      <td>-0.316084</td>\n",
       "      <td>-0.337119</td>\n",
       "      <td>1.886201</td>\n",
       "      <td>-0.381787</td>\n",
       "      <td>-0.581062</td>\n",
       "      <td>-2.097983</td>\n",
       "    </tr>\n",
       "    <tr>\n",
       "      <th>4</th>\n",
       "      <td>-0.943828</td>\n",
       "      <td>2.244415</td>\n",
       "      <td>1.766607</td>\n",
       "      <td>-0.381787</td>\n",
       "      <td>-0.581062</td>\n",
       "      <td>0.819301</td>\n",
       "    </tr>\n",
       "    <tr>\n",
       "      <th>...</th>\n",
       "      <td>...</td>\n",
       "      <td>...</td>\n",
       "      <td>...</td>\n",
       "      <td>...</td>\n",
       "      <td>...</td>\n",
       "      <td>...</td>\n",
       "    </tr>\n",
       "    <tr>\n",
       "      <th>630</th>\n",
       "      <td>-1.045624</td>\n",
       "      <td>-1.194473</td>\n",
       "      <td>-0.134185</td>\n",
       "      <td>-0.381787</td>\n",
       "      <td>-0.581062</td>\n",
       "      <td>-1.137803</td>\n",
       "    </tr>\n",
       "    <tr>\n",
       "      <th>631</th>\n",
       "      <td>1.251317</td>\n",
       "      <td>0.451551</td>\n",
       "      <td>0.641908</td>\n",
       "      <td>-0.381787</td>\n",
       "      <td>0.554243</td>\n",
       "      <td>0.635584</td>\n",
       "    </tr>\n",
       "    <tr>\n",
       "      <th>632</th>\n",
       "      <td>0.721455</td>\n",
       "      <td>-1.511836</td>\n",
       "      <td>-1.192725</td>\n",
       "      <td>-0.381787</td>\n",
       "      <td>-0.581062</td>\n",
       "      <td>1.224865</td>\n",
       "    </tr>\n",
       "    <tr>\n",
       "      <th>633</th>\n",
       "      <td>0.115897</td>\n",
       "      <td>0.029980</td>\n",
       "      <td>-1.335220</td>\n",
       "      <td>-0.381787</td>\n",
       "      <td>-0.581062</td>\n",
       "      <td>1.451564</td>\n",
       "    </tr>\n",
       "    <tr>\n",
       "      <th>634</th>\n",
       "      <td>1.782485</td>\n",
       "      <td>-0.552642</td>\n",
       "      <td>0.099915</td>\n",
       "      <td>-0.381787</td>\n",
       "      <td>-0.581062</td>\n",
       "      <td>0.996085</td>\n",
       "    </tr>\n",
       "  </tbody>\n",
       "</table>\n",
       "<p>635 rows × 6 columns</p>\n",
       "</div>"
      ],
      "text/plain": [
       "     num_pipeline__CIC0  num_pipeline__SM1_Dz  num_pipeline__GATS1i  \\\n",
       "0             -1.241387             -1.194473             -0.230878   \n",
       "1             -0.175136              0.453920             -0.660910   \n",
       "2              1.283944             -1.194473              1.725894   \n",
       "3             -0.316084             -0.337119              1.886201   \n",
       "4             -0.943828              2.244415              1.766607   \n",
       "..                  ...                   ...                   ...   \n",
       "630           -1.045624             -1.194473             -0.134185   \n",
       "631            1.251317              0.451551              0.641908   \n",
       "632            0.721455             -1.511836             -1.192725   \n",
       "633            0.115897              0.029980             -1.335220   \n",
       "634            1.782485             -0.552642              0.099915   \n",
       "\n",
       "     num_pipeline__NdsCH  num_pipeline__NdssC  num_pipeline__MLOGP  \n",
       "0               1.213177            -0.581062            -1.082341  \n",
       "1              -0.381787            -0.581062             1.007178  \n",
       "2              -0.381787            -0.581062             0.334011  \n",
       "3              -0.381787            -0.581062            -2.097983  \n",
       "4              -0.381787            -0.581062             0.819301  \n",
       "..                   ...                  ...                  ...  \n",
       "630            -0.381787            -0.581062            -1.137803  \n",
       "631            -0.381787             0.554243             0.635584  \n",
       "632            -0.381787            -0.581062             1.224865  \n",
       "633            -0.381787            -0.581062             1.451564  \n",
       "634            -0.381787            -0.581062             0.996085  \n",
       "\n",
       "[635 rows x 6 columns]"
      ]
     },
     "execution_count": 23,
     "metadata": {},
     "output_type": "execute_result"
    }
   ],
   "source": [
    "X_train"
   ]
  },
  {
   "cell_type": "code",
   "execution_count": 24,
   "metadata": {},
   "outputs": [
    {
     "data": {
      "text/html": [
       "<div>\n",
       "<style scoped>\n",
       "    .dataframe tbody tr th:only-of-type {\n",
       "        vertical-align: middle;\n",
       "    }\n",
       "\n",
       "    .dataframe tbody tr th {\n",
       "        vertical-align: top;\n",
       "    }\n",
       "\n",
       "    .dataframe thead th {\n",
       "        text-align: right;\n",
       "    }\n",
       "</style>\n",
       "<table border=\"1\" class=\"dataframe\">\n",
       "  <thead>\n",
       "    <tr style=\"text-align: right;\">\n",
       "      <th></th>\n",
       "      <th>num_pipeline__CIC0</th>\n",
       "      <th>num_pipeline__SM1_Dz</th>\n",
       "      <th>num_pipeline__GATS1i</th>\n",
       "      <th>num_pipeline__NdsCH</th>\n",
       "      <th>num_pipeline__NdssC</th>\n",
       "      <th>num_pipeline__MLOGP</th>\n",
       "    </tr>\n",
       "  </thead>\n",
       "  <tbody>\n",
       "    <tr>\n",
       "      <th>0</th>\n",
       "      <td>0.369083</td>\n",
       "      <td>-0.337119</td>\n",
       "      <td>-0.439533</td>\n",
       "      <td>-0.381787</td>\n",
       "      <td>0.554243</td>\n",
       "      <td>0.078194</td>\n",
       "    </tr>\n",
       "    <tr>\n",
       "      <th>1</th>\n",
       "      <td>0.801065</td>\n",
       "      <td>0.172082</td>\n",
       "      <td>0.713156</td>\n",
       "      <td>-0.381787</td>\n",
       "      <td>2.824854</td>\n",
       "      <td>-0.374512</td>\n",
       "    </tr>\n",
       "    <tr>\n",
       "      <th>2</th>\n",
       "      <td>0.645760</td>\n",
       "      <td>-1.511836</td>\n",
       "      <td>-0.495513</td>\n",
       "      <td>-0.381787</td>\n",
       "      <td>-0.581062</td>\n",
       "      <td>0.797116</td>\n",
       "    </tr>\n",
       "    <tr>\n",
       "      <th>3</th>\n",
       "      <td>-1.232251</td>\n",
       "      <td>-0.727902</td>\n",
       "      <td>1.489249</td>\n",
       "      <td>-0.381787</td>\n",
       "      <td>-0.581062</td>\n",
       "      <td>-2.192268</td>\n",
       "    </tr>\n",
       "    <tr>\n",
       "      <th>4</th>\n",
       "      <td>1.368775</td>\n",
       "      <td>-0.552642</td>\n",
       "      <td>-0.566761</td>\n",
       "      <td>1.213177</td>\n",
       "      <td>-0.581062</td>\n",
       "      <td>1.301818</td>\n",
       "    </tr>\n",
       "    <tr>\n",
       "      <th>...</th>\n",
       "      <td>...</td>\n",
       "      <td>...</td>\n",
       "      <td>...</td>\n",
       "      <td>...</td>\n",
       "      <td>...</td>\n",
       "      <td>...</td>\n",
       "    </tr>\n",
       "    <tr>\n",
       "      <th>268</th>\n",
       "      <td>-1.236166</td>\n",
       "      <td>0.922859</td>\n",
       "      <td>-1.383567</td>\n",
       "      <td>-0.381787</td>\n",
       "      <td>-0.581062</td>\n",
       "      <td>0.004708</td>\n",
       "    </tr>\n",
       "    <tr>\n",
       "      <th>269</th>\n",
       "      <td>0.404320</td>\n",
       "      <td>2.043102</td>\n",
       "      <td>-1.103665</td>\n",
       "      <td>-0.381787</td>\n",
       "      <td>-0.581062</td>\n",
       "      <td>2.107399</td>\n",
       "    </tr>\n",
       "    <tr>\n",
       "      <th>270</th>\n",
       "      <td>-1.159166</td>\n",
       "      <td>0.453920</td>\n",
       "      <td>1.158455</td>\n",
       "      <td>-0.381787</td>\n",
       "      <td>-0.581062</td>\n",
       "      <td>0.080967</td>\n",
       "    </tr>\n",
       "    <tr>\n",
       "      <th>271</th>\n",
       "      <td>-0.453118</td>\n",
       "      <td>0.129452</td>\n",
       "      <td>1.733527</td>\n",
       "      <td>-0.381787</td>\n",
       "      <td>1.689549</td>\n",
       "      <td>-1.422737</td>\n",
       "    </tr>\n",
       "    <tr>\n",
       "      <th>272</th>\n",
       "      <td>-0.275627</td>\n",
       "      <td>-0.552642</td>\n",
       "      <td>1.774240</td>\n",
       "      <td>-0.381787</td>\n",
       "      <td>-0.581062</td>\n",
       "      <td>-1.518409</td>\n",
       "    </tr>\n",
       "  </tbody>\n",
       "</table>\n",
       "<p>273 rows × 6 columns</p>\n",
       "</div>"
      ],
      "text/plain": [
       "     num_pipeline__CIC0  num_pipeline__SM1_Dz  num_pipeline__GATS1i  \\\n",
       "0              0.369083             -0.337119             -0.439533   \n",
       "1              0.801065              0.172082              0.713156   \n",
       "2              0.645760             -1.511836             -0.495513   \n",
       "3             -1.232251             -0.727902              1.489249   \n",
       "4              1.368775             -0.552642             -0.566761   \n",
       "..                  ...                   ...                   ...   \n",
       "268           -1.236166              0.922859             -1.383567   \n",
       "269            0.404320              2.043102             -1.103665   \n",
       "270           -1.159166              0.453920              1.158455   \n",
       "271           -0.453118              0.129452              1.733527   \n",
       "272           -0.275627             -0.552642              1.774240   \n",
       "\n",
       "     num_pipeline__NdsCH  num_pipeline__NdssC  num_pipeline__MLOGP  \n",
       "0              -0.381787             0.554243             0.078194  \n",
       "1              -0.381787             2.824854            -0.374512  \n",
       "2              -0.381787            -0.581062             0.797116  \n",
       "3              -0.381787            -0.581062            -2.192268  \n",
       "4               1.213177            -0.581062             1.301818  \n",
       "..                   ...                  ...                  ...  \n",
       "268            -0.381787            -0.581062             0.004708  \n",
       "269            -0.381787            -0.581062             2.107399  \n",
       "270            -0.381787            -0.581062             0.080967  \n",
       "271            -0.381787             1.689549            -1.422737  \n",
       "272            -0.381787            -0.581062            -1.518409  \n",
       "\n",
       "[273 rows x 6 columns]"
      ]
     },
     "execution_count": 24,
     "metadata": {},
     "output_type": "execute_result"
    }
   ],
   "source": [
    "X_test"
   ]
  },
  {
   "cell_type": "code",
   "execution_count": 25,
   "metadata": {},
   "outputs": [
    {
     "data": {
      "text/plain": [
       "'linear regression\\nridge regression\\nlasso regression\\nelastic net'"
      ]
     },
     "execution_count": 25,
     "metadata": {},
     "output_type": "execute_result"
    }
   ],
   "source": [
    "\"\"\"linear regression\n",
    "ridge regression\n",
    "lasso regression\n",
    "elastic net\"\"\""
   ]
  },
  {
   "cell_type": "code",
   "execution_count": 26,
   "metadata": {},
   "outputs": [],
   "source": [
    "## Model Training\n",
    "\n",
    "from sklearn.linear_model import LinearRegression,Lasso,Ridge,ElasticNet\n",
    "from sklearn.metrics import r2_score,mean_absolute_error,mean_squared_error"
   ]
  },
  {
   "cell_type": "code",
   "execution_count": 27,
   "metadata": {},
   "outputs": [],
   "source": [
    "import numpy as np\n",
    "def evaluate_model(true, predicted):\n",
    "    mae = mean_absolute_error(true, predicted)\n",
    "    mse = mean_squared_error(true, predicted)\n",
    "    rmse = np.sqrt(mean_squared_error(true, predicted))\n",
    "    r2_square = r2_score(true, predicted)\n",
    "    return mae, rmse, r2_square"
   ]
  },
  {
   "cell_type": "code",
   "execution_count": 28,
   "metadata": {},
   "outputs": [],
   "source": [
    "## Train multiple models\n",
    "\n",
    "models={\n",
    "    'LinearRegression':LinearRegression(),\n",
    "    'Lasso':Lasso(),\n",
    "    'Ridge':Ridge(),\n",
    "    'Elasticnet':ElasticNet()\n",
    "}"
   ]
  },
  {
   "cell_type": "code",
   "execution_count": 29,
   "metadata": {},
   "outputs": [],
   "source": [
    "trained_model_list=[]\n",
    "model_list=[]\n",
    "r2_list=[]"
   ]
  },
  {
   "cell_type": "code",
   "execution_count": 30,
   "metadata": {},
   "outputs": [
    {
     "data": {
      "text/plain": [
       "['LinearRegression', 'Lasso', 'Ridge', 'Elasticnet']"
      ]
     },
     "execution_count": 30,
     "metadata": {},
     "output_type": "execute_result"
    }
   ],
   "source": [
    "list(models)"
   ]
  },
  {
   "cell_type": "code",
   "execution_count": 31,
   "metadata": {},
   "outputs": [
    {
     "name": "stdout",
     "output_type": "stream",
     "text": [
      "LinearRegression()\n",
      "Lasso()\n",
      "Ridge()\n",
      "ElasticNet()\n"
     ]
    }
   ],
   "source": [
    "for i in range(len(list(models))):\n",
    "    model=list(models.values())[i]\n",
    "    print(model)"
   ]
  },
  {
   "cell_type": "code",
   "execution_count": 32,
   "metadata": {},
   "outputs": [
    {
     "data": {
      "text/plain": [
       "dict_keys(['LinearRegression', 'Lasso', 'Ridge', 'Elasticnet'])"
      ]
     },
     "execution_count": 32,
     "metadata": {},
     "output_type": "execute_result"
    }
   ],
   "source": [
    "models.keys()"
   ]
  },
  {
   "cell_type": "code",
   "execution_count": 33,
   "metadata": {},
   "outputs": [
    {
     "data": {
      "text/plain": [
       "dict_values([LinearRegression(), Lasso(), Ridge(), ElasticNet()])"
      ]
     },
     "execution_count": 33,
     "metadata": {},
     "output_type": "execute_result"
    }
   ],
   "source": [
    "models.values()"
   ]
  },
  {
   "cell_type": "code",
   "execution_count": 34,
   "metadata": {},
   "outputs": [
    {
     "name": "stdout",
     "output_type": "stream",
     "text": [
      "LinearRegression\n",
      "Model Training Performance\n",
      "RMSE: 0.8458321632330441\n",
      "MAE: 0.6288204862234533\n",
      "R2 score 63.2304617628032\n",
      "===================================\n",
      "\n",
      "\n",
      "Lasso\n",
      "Model Training Performance\n",
      "RMSE: 1.396534214658578\n",
      "MAE: 1.0556462230682704\n",
      "R2 score -0.23581954185190046\n",
      "===================================\n",
      "\n",
      "\n",
      "Ridge\n",
      "Model Training Performance\n",
      "RMSE: 0.8457699434032642\n",
      "MAE: 0.6287367077516812\n",
      "R2 score 63.23587113445873\n",
      "===================================\n",
      "\n",
      "\n",
      "Elasticnet\n",
      "Model Training Performance\n",
      "RMSE: 1.2076321105494536\n",
      "MAE: 0.8997890137514591\n",
      "R2 score 25.046988024811622\n",
      "===================================\n",
      "\n",
      "\n"
     ]
    }
   ],
   "source": [
    "\n",
    "\n",
    "for i in range(len(list(models))):\n",
    "    model=list(models.values())[i]\n",
    "    model.fit(X_train,y_train)\n",
    "\n",
    "    #Make Predictions\n",
    "    y_pred=model.predict(X_test)\n",
    "\n",
    "    #this is a validation(test) score\n",
    "    mae, rmse, r2_square=evaluate_model(y_test,y_pred)\n",
    "\n",
    "    print(list(models.keys())[i])\n",
    "    model_list.append(list(models.keys())[i])\n",
    "\n",
    "    print('Model Training Performance')\n",
    "    print(\"RMSE:\",rmse)\n",
    "    print(\"MAE:\",mae)\n",
    "    print(\"R2 score\",r2_square*100)\n",
    "\n",
    "    r2_list.append(r2_square)\n",
    "    \n",
    "    print('='*35)\n",
    "    print('\\n')\n"
   ]
  },
  {
   "cell_type": "code",
   "execution_count": 35,
   "metadata": {},
   "outputs": [
    {
     "data": {
      "text/plain": [
       "[]"
      ]
     },
     "execution_count": 35,
     "metadata": {},
     "output_type": "execute_result"
    }
   ],
   "source": [
    "trained_model_list"
   ]
  },
  {
   "cell_type": "code",
   "execution_count": 36,
   "metadata": {},
   "outputs": [
    {
     "data": {
      "text/plain": [
       "['LinearRegression', 'Lasso', 'Ridge', 'Elasticnet']"
      ]
     },
     "execution_count": 36,
     "metadata": {},
     "output_type": "execute_result"
    }
   ],
   "source": [
    "model_list"
   ]
  },
  {
   "cell_type": "code",
   "execution_count": 37,
   "metadata": {},
   "outputs": [
    {
     "data": {
      "text/plain": [
       "[0.632304617628032,\n",
       " -0.0023581954185190046,\n",
       " 0.6323587113445873,\n",
       " 0.25046988024811623]"
      ]
     },
     "execution_count": 37,
     "metadata": {},
     "output_type": "execute_result"
    }
   ],
   "source": [
    "r2_list"
   ]
  }
 ],
 "metadata": {
  "kernelspec": {
   "display_name": "Python 3",
   "language": "python",
   "name": "python3"
  },
  "language_info": {
   "codemirror_mode": {
    "name": "ipython",
    "version": 3
   },
   "file_extension": ".py",
   "mimetype": "text/x-python",
   "name": "python",
   "nbconvert_exporter": "python",
   "pygments_lexer": "ipython3",
   "version": "3.11.7"
  }
 },
 "nbformat": 4,
 "nbformat_minor": 2
}
